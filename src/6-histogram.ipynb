{
 "cells": [
  {
   "cell_type": "markdown",
   "metadata": {},
   "source": [
    "### Exercise 6: Histogram Customization"
   ]
  },
  {
   "cell_type": "code",
   "execution_count": null,
   "metadata": {},
   "outputs": [],
   "source": [
    "# TASK: Create a histogram for the following data: data = [1, 2, 2, 3, 3, 3, 4, 4, 4, 4, 5].\n",
    "# Customize the histogram with a title, labels for the x-axis, and a specific color for the bars."
   ]
  },
  {
   "cell_type": "code",
   "execution_count": null,
   "metadata": {},
   "outputs": [],
   "source": [
    "import matplotlib.pyplot as plt\n",
    "\n",
    "# Data for the histogram\n",
    "data = [1, 2, 2, 3, 3, 3, 4, 4, 4, 4, 5]\n",
    "\n",
    "# Creating the histogram\n",
    "plt.hist(data, bins=range(1, 7), color='skyblue', edgecolor='black', align='left')\n",
    "\n",
    "# Customizing the histogram\n",
    "plt.title(\"Histogram customization.\")\n",
    "plt.xlabel(\"Value\")\n",
    "plt.ylabel(\"Frequency\")\n",
    "\n",
    "# Display the histogram\n",
    "plt.show()\n"
   ]
  }
 ],
 "metadata": {
  "language_info": {
   "name": "python"
  }
 },
 "nbformat": 4,
 "nbformat_minor": 2
}
